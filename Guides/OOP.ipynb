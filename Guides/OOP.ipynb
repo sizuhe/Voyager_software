{
 "cells": [
  {
   "attachments": {},
   "cell_type": "markdown",
   "metadata": {},
   "source": [
    "# OOP (Object Oriented Programming)\n",
    "\n",
    "Objects are useful whenever you want to reuse code parts a lot of times.\n",
    "\n",
    "- **\\_\\_init\\_\\_**: Instantiates the object when it is created\n",
    "- **self**: Reference of the object is \"passed\" so you can access specific attributes for each object. Always needs to be called so we know which object we are accessing."
   ]
  },
  {
   "attachments": {},
   "cell_type": "markdown",
   "metadata": {},
   "source": [
    "## Basic example"
   ]
  },
  {
   "cell_type": "code",
   "execution_count": 7,
   "metadata": {},
   "outputs": [],
   "source": [
    "# Object\n",
    "class Dog:\n",
    "    # __init__ runs automatically when class Dog is called\n",
    "    def __init__(self, name, age):\n",
    "        self.name = name    # Attribute of Dog class\n",
    "        self.age = age\n",
    "    \n",
    "    # Method\n",
    "    def bark(self):\n",
    "        print(\"Bark\")\n",
    "\n",
    "    def add_one(self, x):\n",
    "        return x+1\n",
    "\n",
    "    def get_name(self):\n",
    "        return self.name\n",
    "\n",
    "    def get_age(self):\n",
    "        return self.age\n",
    "\n",
    "    def set_age(self, age):\n",
    "        self.age = age"
   ]
  },
  {
   "cell_type": "code",
   "execution_count": 5,
   "metadata": {},
   "outputs": [
    {
     "name": "stdout",
     "output_type": "stream",
     "text": [
      "Bark\n",
      "6\n"
     ]
    }
   ],
   "source": [
    "# Instance of Dog class\n",
    "# d = Dog()\n",
    "\n",
    "# Using __init__ method\n",
    "d = Dog(\"Tim\", 1)\n",
    "\n",
    "# Calling a method on an instance\n",
    "d.bark()\n",
    "print(d.add_one(5))"
   ]
  },
  {
   "cell_type": "code",
   "execution_count": 8,
   "metadata": {},
   "outputs": [
    {
     "name": "stdout",
     "output_type": "stream",
     "text": [
      "Tim\n",
      "12\n",
      "23\n"
     ]
    }
   ],
   "source": [
    "# explaining 'self'\n",
    "# 2 different dog objects storing different info in their instances\n",
    "d = Dog(\"Tim\", 12)\n",
    "print(d.get_name())\n",
    "print(d.get_age())\n",
    "d.set_age(23)\n",
    "print(d.get_age())\n",
    "\n",
    "# d2 = Dog(\"Johnny\", 6)\n",
    "# print(d2.get_name())\n",
    "# print(d2.get_age())"
   ]
  },
  {
   "attachments": {},
   "cell_type": "markdown",
   "metadata": {},
   "source": [
    "## Multiple classes"
   ]
  },
  {
   "cell_type": "code",
   "execution_count": 9,
   "metadata": {},
   "outputs": [],
   "source": [
    "class Student:\n",
    "    def __init__(self, name, age, grade):\n",
    "        self.name = name\n",
    "        self.age = age\n",
    "        self.grade = grade  # 0 - 100\n",
    "\n",
    "    def get_grade(self):\n",
    "        return self.grade\n",
    "\n",
    "class Course:\n",
    "    def __init__(self, name, max_students):\n",
    "        self.name = name\n",
    "        self.max_students = max_students\n",
    "        self.students = []\n",
    "        \n",
    "    def add_student(self, student):\n",
    "        if len(self.students) < self.max_students:\n",
    "            self.students.append(student)\n",
    "            return True\n",
    "        return False\n",
    "\n",
    "    def get_average_grade(self):\n",
    "        value = 0\n",
    "        for student in self.students:\n",
    "            value += student.get_grade()\n",
    "\n",
    "        return value / len(self.students)"
   ]
  },
  {
   "cell_type": "code",
   "execution_count": 10,
   "metadata": {},
   "outputs": [
    {
     "name": "stdout",
     "output_type": "stream",
     "text": [
      "85.0\n"
     ]
    }
   ],
   "source": [
    "s1 = Student(\"Tim\", 19, 95)\n",
    "s2 = Student(\"Bill\", 19, 75)\n",
    "s3 = Student(\"Jill\", 19, 65)\n",
    "\n",
    "course = Course(\"Science\", 2)\n",
    "course.add_student(s1)\n",
    "course.add_student(s2)\n",
    "course.add_student(s3)  # Doesn't add into the course because of max students\n",
    "\n",
    "# print(course.students)  # Student objects inside list\n",
    "# print(course.students[0].name)  # Printing name attribute of position 1 on the list\n",
    "\n",
    "print(course.get_average_grade())"
   ]
  }
 ],
 "metadata": {
  "kernelspec": {
   "display_name": "Python 3.10.8 64-bit",
   "language": "python",
   "name": "python3"
  },
  "language_info": {
   "codemirror_mode": {
    "name": "ipython",
    "version": 3
   },
   "file_extension": ".py",
   "mimetype": "text/x-python",
   "name": "python",
   "nbconvert_exporter": "python",
   "pygments_lexer": "ipython3",
   "version": "3.11.0"
  },
  "orig_nbformat": 4,
  "vscode": {
   "interpreter": {
    "hash": "7101ca937a6cefa303d920fd1335fe82956cc294edbf5f7bc268a5a56c54bb64"
   }
  }
 },
 "nbformat": 4,
 "nbformat_minor": 2
}
